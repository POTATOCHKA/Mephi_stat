{
 "cells": [
  {
   "cell_type": "markdown",
   "id": "1ee6a80f",
   "metadata": {},
   "source": [
    "## Проверка статистической связанности. Критерий хи-квадрат"
   ]
  },
  {
   "cell_type": "code",
   "execution_count": 2,
   "id": "dede2784",
   "metadata": {},
   "outputs": [],
   "source": [
    "# как обычно, начнем с импорта нужных библиотек\n",
    "import numpy as np\n",
    "import pandas as pd\n",
    "from scipy import stats\n",
    "import matplotlib.pyplot as plt\n",
    "import statsmodels.api as sm\n",
    "import seaborn as sns\n",
    "from statsmodels.formula.api import ols\n",
    "\n",
    "\n",
    "%matplotlib inline"
   ]
  },
  {
   "cell_type": "markdown",
   "id": "435d66f6",
   "metadata": {},
   "source": [
    "**Задача.** Перед вами результаты медицинских исследований. Из 1500 мужчин, испытывающих лекарство, выздоровели 700, из 210 не принимавших выздоровели 80. Из 220 принимавших женщин — 150, из 680 не принимавших — 300. Проверить, влияет ли лекарство на мужчин? На женщин? На людей обоих полов?"
   ]
  },
  {
   "cell_type": "markdown",
   "id": "1ed4783a",
   "metadata": {},
   "source": [
    "Запишем аккуратно данные. Пусть $A$ — принимавшие лекарство, $\\overline{A}$ — не принимавшие лекарство, $B$ — выздоровевшие, $\\overline{B}$ — не выздоровевшие."
   ]
  },
  {
   "cell_type": "markdown",
   "id": "13de79e5",
   "metadata": {},
   "source": [
    "<!--<img width=\"60%\" src=\"pics/pic2.png\">-->\n",
    "<table>\n",
    "<tr><td>\n",
    "    \n",
    "|Мужчины| $B$ |  $\\overline{B}$|\n",
    "|--|--|--|\n",
    "|$A$| 700 | 800 |\n",
    "|$\\overline{A}$| 80 | 130 |\n",
    "\n",
    "</td><td>\n",
    "    \n",
    "|Женщины| $B$ |  $\\overline{B}$|\n",
    "|--|--|--|\n",
    "|$A$| 150 | 70 |\n",
    "|$\\overline{A}$| 300 | 280 |\n",
    "\n",
    "</td><td>\n",
    "\n",
    "|Вместе| $B$ |  $\\overline{B}$|\n",
    "|--|--|--|\n",
    "|$A$| 850 | 870 |\n",
    "|$\\overline{A}$| 380 | 410 |\n",
    "\n",
    "</td></tr> </table>"
   ]
  },
  {
   "cell_type": "code",
   "execution_count": 3,
   "id": "c4ca20fd",
   "metadata": {},
   "outputs": [],
   "source": [
    "# перепишем данные \n",
    "\n",
    "men = np.array([[700,800],[80,130]])\n",
    "women = np.array([[150,70],[300,280]])\n",
    "both = men + women"
   ]
  },
  {
   "cell_type": "markdown",
   "id": "2b838471",
   "metadata": {},
   "source": [
    "### Есть ли эффект от лекарства у мужчин? "
   ]
  },
  {
   "cell_type": "markdown",
   "id": "fd43ab9b",
   "metadata": {},
   "source": [
    "Заметим, что среди принимавших лекарство мужчин доля выздоровевших больше, чем среди мужчин, не принимавших лекарство:\n",
    "\n",
    "$$\\frac{700}{700 + 800} \\approx 0.467 \\qquad > \\qquad 0.381 \\approx \\frac{80}{80 + 130}.$$\n",
    "  \n",
    "Проверим, значимо ли это различие."
   ]
  },
  {
   "cell_type": "code",
   "execution_count": 4,
   "id": "4f17c5e6",
   "metadata": {},
   "outputs": [
    {
     "name": "stdout",
     "output_type": "stream",
     "text": [
      "statistic =  5.455512229705774\n",
      "p-value =  0.019506684444057898\n"
     ]
    }
   ],
   "source": [
    "# можно реализовать криетрий вручную \n",
    "\n",
    "n = np.sum(men) # количество испытуемых\n",
    "n1,n2 = np.sum(men,axis=1) # количество испытуемых, принимавших и не принимавших лекарство\n",
    "p = np.sum(men,axis=0)/n # вероятности попасть в (B) и (not B)\n",
    "exmen = np.array([p*n1,p*n2]) # ожидаемые количества в каждой ячейке\n",
    "\n",
    "statistic = np.sum((men - exmen)**2/exmen)\n",
    "pvalue = 1-stats.chi2.cdf(statistic, df=1)\n",
    "\n",
    "print(\"statistic = \", statistic)\n",
    "print(\"p-value = \", pvalue)"
   ]
  },
  {
   "cell_type": "code",
   "execution_count": 5,
   "id": "7ac15aa5",
   "metadata": {},
   "outputs": [
    {
     "data": {
      "text/plain": [
       "(5.455512229705774,\n",
       " 0.019506684444057915,\n",
       " 1,\n",
       " array([[684.21052632, 815.78947368],\n",
       "        [ 95.78947368, 114.21052632]]))"
      ]
     },
     "execution_count": 5,
     "metadata": {},
     "output_type": "execute_result"
    }
   ],
   "source": [
    "# второй спобоб реализации \n",
    "\n",
    "stats.chi2_contingency(men, correction=False)"
   ]
  },
  {
   "cell_type": "markdown",
   "id": "ba762e7d",
   "metadata": {},
   "source": [
    "Критерий хи-квадрат признал различие значимым на уровне $\\approx 2\\%$."
   ]
  },
  {
   "cell_type": "markdown",
   "id": "4be03163",
   "metadata": {},
   "source": [
    "### Есть ли эффект от лекарства у женщин? "
   ]
  },
  {
   "cell_type": "markdown",
   "id": "848c544d",
   "metadata": {},
   "source": [
    "Аналогично, среди принимавших лекарство женщин доля выздоровевших больше, чем среди женщин, не принимавших лекарство:\n",
    "\n",
    "$$\\frac{150}{150 + 70} \\approx 0.682 \\qquad > \\qquad 0.517 \\approx \\frac{300}{300 + 280}.$$\n",
    "  \n",
    "Проверим, значимо ли это различие."
   ]
  },
  {
   "cell_type": "code",
   "execution_count": 6,
   "id": "26dd98ce",
   "metadata": {},
   "outputs": [
    {
     "data": {
      "text/plain": [
       "(16.89247151316117,\n",
       " 3.9558168423442364e-05,\n",
       " 1,\n",
       " array([[123.75,  96.25],\n",
       "        [326.25, 253.75]]))"
      ]
     },
     "execution_count": 6,
     "metadata": {},
     "output_type": "execute_result"
    }
   ],
   "source": [
    "stats.chi2_contingency(women)"
   ]
  },
  {
   "cell_type": "markdown",
   "id": "6fe0bd09",
   "metadata": {},
   "source": [
    "### Есть ли эффект от лекарства у мужчин и женщин вместе? "
   ]
  },
  {
   "cell_type": "markdown",
   "id": "abfb87ae",
   "metadata": {},
   "source": [
    "Как это ни странно, из таблицы с объединенными результатами следует, что доля выздоровевших больше среди тех людей, которые лекарство **не принимали**:\n",
    "\n",
    "$$\\frac{850}{850+870} \\approx 0.494 \\qquad > \\qquad 0.481 \\approx \\frac{380}{380+410}.$$\n",
    "  \n",
    "Проверим, значимо ли это различие."
   ]
  },
  {
   "cell_type": "code",
   "execution_count": 7,
   "id": "feb5704a",
   "metadata": {},
   "outputs": [
    {
     "data": {
      "text/plain": [
       "(0.32506536675320896,\n",
       " 0.5685793289091471,\n",
       " 1,\n",
       " array([[842.8685259, 877.1314741],\n",
       "        [387.1314741, 402.8685259]]))"
      ]
     },
     "execution_count": 7,
     "metadata": {},
     "output_type": "execute_result"
    }
   ],
   "source": [
    "stats.chi2_contingency(both)"
   ]
  },
  {
   "cell_type": "markdown",
   "id": "1da9af77",
   "metadata": {},
   "source": [
    "Зависимости не обнаружено"
   ]
  },
  {
   "cell_type": "markdown",
   "id": "b8e900bd",
   "metadata": {},
   "source": [
    "### Причина парадокса"
   ]
  },
  {
   "cell_type": "markdown",
   "id": "bacd24d1",
   "metadata": {},
   "source": [
    "Причины несогласованности выводов — большие отличия в размерах групп пациентов, принимающих плацебо и препарат: основной вклад в выводы вносят женщины, принимавшие плацебо, и мужчины, принимавшие препарат.\n",
    "Чтобы такого не происходило, плацебо и препарат должны поровну распределяться по всем анализируемым подгруппам."
   ]
  },
  {
   "cell_type": "markdown",
   "id": "e27073eb",
   "metadata": {},
   "source": [
    "Г. Секей пишет: «Аналогично, новое лекарство может оказаться эффективным в каждом из десяти различных госпиталей, но объединение результатов укажет на то, что это лекарство либо бесполезно, либо вредно»."
   ]
  },
  {
   "cell_type": "markdown",
   "id": "e50c9b14",
   "metadata": {},
   "source": [
    "Кроме того, число мужчин (210), не принимавших лекарство, недостаточно велико: согласно таблице, приведенной в книге\n",
    "Дж. Флейс «Статистические методы для изучения таблиц долей и пропорций», вероятность ошибки II рода, для таких данных\n",
    "равна $50\\%$. Чтобы обеспечить ошибку второго рода $10\\%$, необходимо иметь не менее 475 пациентов в этой категории."
   ]
  },
  {
   "cell_type": "markdown",
   "id": "9016a0a8",
   "metadata": {},
   "source": [
    "Этот пример показывает, что к выводам, основанным на применении критерия хи-квадрат, следует относиться с осторожностью."
   ]
  },
  {
   "cell_type": "markdown",
   "id": "28995116",
   "metadata": {},
   "source": [
    "### Образование и вера\n",
    "\n",
    "2008 General Social Survey, National Opinion Research center (Agresti A. Categorical Data Analysis. — Hoboken: John Wiley & Sons, 2013, табл. 3.2)\n",
    "\n",
    "General Social Survey — ежегодный опрос населения США, записывается около 5000 факторов. Из опроса 2008 года выбраны данные о вере и образовании 2000 опрошенных. Есть ли связь между степенью веры и уровнем образования?"
   ]
  },
  {
   "cell_type": "code",
   "execution_count": 8,
   "id": "28d0c8c8",
   "metadata": {},
   "outputs": [
    {
     "data": {
      "text/html": [
       "<div>\n",
       "<style scoped>\n",
       "    .dataframe tbody tr th:only-of-type {\n",
       "        vertical-align: middle;\n",
       "    }\n",
       "\n",
       "    .dataframe tbody tr th {\n",
       "        vertical-align: top;\n",
       "    }\n",
       "\n",
       "    .dataframe thead th {\n",
       "        text-align: right;\n",
       "    }\n",
       "</style>\n",
       "<table border=\"1\" class=\"dataframe\">\n",
       "  <thead>\n",
       "    <tr style=\"text-align: right;\">\n",
       "      <th></th>\n",
       "      <th>Highest degree</th>\n",
       "      <th>don’t believe</th>\n",
       "      <th>no way to find out</th>\n",
       "      <th>some higher power</th>\n",
       "      <th>believe sometimes</th>\n",
       "      <th>believe but doubts</th>\n",
       "      <th>know God exists</th>\n",
       "    </tr>\n",
       "  </thead>\n",
       "  <tbody>\n",
       "    <tr>\n",
       "      <th>0</th>\n",
       "      <td>Less than high school</td>\n",
       "      <td>9</td>\n",
       "      <td>8</td>\n",
       "      <td>27</td>\n",
       "      <td>8</td>\n",
       "      <td>47</td>\n",
       "      <td>236</td>\n",
       "    </tr>\n",
       "    <tr>\n",
       "      <th>1</th>\n",
       "      <td>High school or junior college</td>\n",
       "      <td>23</td>\n",
       "      <td>39</td>\n",
       "      <td>88</td>\n",
       "      <td>49</td>\n",
       "      <td>179</td>\n",
       "      <td>706</td>\n",
       "    </tr>\n",
       "    <tr>\n",
       "      <th>2</th>\n",
       "      <td>Bachelor or graduate</td>\n",
       "      <td>28</td>\n",
       "      <td>48</td>\n",
       "      <td>89</td>\n",
       "      <td>19</td>\n",
       "      <td>104</td>\n",
       "      <td>293</td>\n",
       "    </tr>\n",
       "  </tbody>\n",
       "</table>\n",
       "</div>"
      ],
      "text/plain": [
       "                  Highest degree  don’t believe  no way to find out  \\\n",
       "0          Less than high school              9                   8   \n",
       "1  High school or junior college             23                  39   \n",
       "2           Bachelor or graduate             28                  48   \n",
       "\n",
       "   some higher power  believe sometimes  believe but doubts  know God exists  \n",
       "0                 27                  8                  47              236  \n",
       "1                 88                 49                 179              706  \n",
       "2                 89                 19                 104              293  "
      ]
     },
     "execution_count": 8,
     "metadata": {},
     "output_type": "execute_result"
    }
   ],
   "source": [
    "data = pd.read_csv('data/fe.txt', sep = '\\t')\n",
    "data.head()\n"
   ]
  },
  {
   "cell_type": "code",
   "execution_count": 9,
   "id": "2a3ed952",
   "metadata": {},
   "outputs": [
    {
     "data": {
      "text/plain": [
       "array([[  9.,   8.,  27.,   8.,  47., 236.],\n",
       "       [ 23.,  39.,  88.,  49., 179., 706.],\n",
       "       [ 28.,  48.,  89.,  19., 104., 293.]])"
      ]
     },
     "execution_count": 9,
     "metadata": {},
     "output_type": "execute_result"
    }
   ],
   "source": [
    "values = data.values[:, 1:].astype(float)\n",
    "values"
   ]
  },
  {
   "cell_type": "code",
   "execution_count": 10,
   "id": "b198f566",
   "metadata": {},
   "outputs": [
    {
     "data": {
      "text/plain": [
       "(76.1483261658133,\n",
       " 2.842572791195739e-12,\n",
       " 10,\n",
       " array([[ 10.05  ,  15.9125,  34.17  ,  12.73  ,  55.275 , 206.8625],\n",
       "        [ 32.52  ,  51.49  , 110.568 ,  41.192 , 178.86  , 669.37  ],\n",
       "        [ 17.43  ,  27.5975,  59.262 ,  22.078 ,  95.865 , 358.7675]]))"
      ]
     },
     "execution_count": 10,
     "metadata": {},
     "output_type": "execute_result"
    }
   ],
   "source": [
    "stats.chi2_contingency(values)\n"
   ]
  },
  {
   "cell_type": "markdown",
   "id": "d081557e",
   "metadata": {},
   "source": [
    "# ANOVA"
   ]
  },
  {
   "cell_type": "markdown",
   "id": "844d48e0",
   "metadata": {},
   "source": [
    "<img src=\"data/fish.png\" alt=\"Drawing\" style=\"width: 700px;\"/>\n"
   ]
  },
  {
   "cell_type": "markdown",
   "id": "2ecfb876",
   "metadata": {},
   "source": [
    "<img src=\"data/lim.png\" alt=\"Drawing\" style=\"width: 700px;\"/>\n",
    "\n",
    "FYI : критерий Краскела-Уоллеса, критерий Джонкхиера"
   ]
  },
  {
   "cell_type": "markdown",
   "id": "3a731b54",
   "metadata": {},
   "source": [
    "## Рост певцов хора\n",
    "\n",
    "Cleveland W. S. (1993) Visualizing Data. Summit, New Jersey: Hobart Press.\n",
    "\n",
    "В 1979 году было опрошено 235 членов нью-йоркской ассоциации хорового пения, для каждого из них известен рост и регистр голоса. Меняется ли средний рост вместе с регистром?"
   ]
  },
  {
   "cell_type": "code",
   "execution_count": 11,
   "id": "b3705e7a",
   "metadata": {},
   "outputs": [
    {
     "data": {
      "text/html": [
       "<div>\n",
       "<style scoped>\n",
       "    .dataframe tbody tr th:only-of-type {\n",
       "        vertical-align: middle;\n",
       "    }\n",
       "\n",
       "    .dataframe tbody tr th {\n",
       "        vertical-align: top;\n",
       "    }\n",
       "\n",
       "    .dataframe thead th {\n",
       "        text-align: right;\n",
       "    }\n",
       "</style>\n",
       "<table border=\"1\" class=\"dataframe\">\n",
       "  <thead>\n",
       "    <tr style=\"text-align: right;\">\n",
       "      <th></th>\n",
       "      <th>height</th>\n",
       "      <th>voice.part</th>\n",
       "    </tr>\n",
       "  </thead>\n",
       "  <tbody>\n",
       "    <tr>\n",
       "      <th>0</th>\n",
       "      <td>64</td>\n",
       "      <td>Soprano 1</td>\n",
       "    </tr>\n",
       "    <tr>\n",
       "      <th>1</th>\n",
       "      <td>62</td>\n",
       "      <td>Soprano 1</td>\n",
       "    </tr>\n",
       "    <tr>\n",
       "      <th>2</th>\n",
       "      <td>66</td>\n",
       "      <td>Soprano 1</td>\n",
       "    </tr>\n",
       "    <tr>\n",
       "      <th>3</th>\n",
       "      <td>65</td>\n",
       "      <td>Soprano 1</td>\n",
       "    </tr>\n",
       "    <tr>\n",
       "      <th>4</th>\n",
       "      <td>60</td>\n",
       "      <td>Soprano 1</td>\n",
       "    </tr>\n",
       "  </tbody>\n",
       "</table>\n",
       "</div>"
      ],
      "text/plain": [
       "   height voice.part\n",
       "0      64  Soprano 1\n",
       "1      62  Soprano 1\n",
       "2      66  Soprano 1\n",
       "3      65  Soprano 1\n",
       "4      60  Soprano 1"
      ]
     },
     "execution_count": 11,
     "metadata": {},
     "output_type": "execute_result"
    }
   ],
   "source": [
    "data =  sm.datasets.get_rdataset('singer', 'lattice').data\n",
    "data.head()"
   ]
  },
  {
   "cell_type": "code",
   "execution_count": 12,
   "id": "43dfbd00",
   "metadata": {},
   "outputs": [],
   "source": [
    "data.columns = ['height', 'voice']\n",
    "data['height'] *= 2.54"
   ]
  },
  {
   "cell_type": "code",
   "execution_count": 13,
   "id": "e395c19c",
   "metadata": {},
   "outputs": [
    {
     "data": {
      "text/html": [
       "<div>\n",
       "<style scoped>\n",
       "    .dataframe tbody tr th:only-of-type {\n",
       "        vertical-align: middle;\n",
       "    }\n",
       "\n",
       "    .dataframe tbody tr th {\n",
       "        vertical-align: top;\n",
       "    }\n",
       "\n",
       "    .dataframe thead th {\n",
       "        text-align: right;\n",
       "    }\n",
       "</style>\n",
       "<table border=\"1\" class=\"dataframe\">\n",
       "  <thead>\n",
       "    <tr style=\"text-align: right;\">\n",
       "      <th></th>\n",
       "      <th>height</th>\n",
       "    </tr>\n",
       "  </thead>\n",
       "  <tbody>\n",
       "    <tr>\n",
       "      <th>count</th>\n",
       "      <td>235.000000</td>\n",
       "    </tr>\n",
       "    <tr>\n",
       "      <th>mean</th>\n",
       "      <td>170.936596</td>\n",
       "    </tr>\n",
       "    <tr>\n",
       "      <th>std</th>\n",
       "      <td>9.714908</td>\n",
       "    </tr>\n",
       "    <tr>\n",
       "      <th>min</th>\n",
       "      <td>152.400000</td>\n",
       "    </tr>\n",
       "    <tr>\n",
       "      <th>25%</th>\n",
       "      <td>165.100000</td>\n",
       "    </tr>\n",
       "    <tr>\n",
       "      <th>50%</th>\n",
       "      <td>170.180000</td>\n",
       "    </tr>\n",
       "    <tr>\n",
       "      <th>75%</th>\n",
       "      <td>177.800000</td>\n",
       "    </tr>\n",
       "    <tr>\n",
       "      <th>max</th>\n",
       "      <td>193.040000</td>\n",
       "    </tr>\n",
       "  </tbody>\n",
       "</table>\n",
       "</div>"
      ],
      "text/plain": [
       "           height\n",
       "count  235.000000\n",
       "mean   170.936596\n",
       "std      9.714908\n",
       "min    152.400000\n",
       "25%    165.100000\n",
       "50%    170.180000\n",
       "75%    177.800000\n",
       "max    193.040000"
      ]
     },
     "execution_count": 13,
     "metadata": {},
     "output_type": "execute_result"
    }
   ],
   "source": [
    "data.describe()\n"
   ]
  },
  {
   "cell_type": "code",
   "execution_count": 14,
   "id": "fab6b972",
   "metadata": {},
   "outputs": [
    {
     "data": {
      "image/png": "[encoded data removed]",
      "text/plain": [
       "<Figure size 432x288 with 1 Axes>"
      ]
     },
     "metadata": {
      "needs_background": "light"
     },
     "output_type": "display_data"
    }
   ],
   "source": [
    "_ = sns.boxplot(x='height', y='voice', data=data)\n",
    "plt.show()"
   ]
  },
  {
   "cell_type": "code",
   "execution_count": 15,
   "id": "8cf252af",
   "metadata": {},
   "outputs": [
    {
     "data": {
      "text/html": [
       "<div>\n",
       "<style scoped>\n",
       "    .dataframe tbody tr th:only-of-type {\n",
       "        vertical-align: middle;\n",
       "    }\n",
       "\n",
       "    .dataframe tbody tr th {\n",
       "        vertical-align: top;\n",
       "    }\n",
       "\n",
       "    .dataframe thead th {\n",
       "        text-align: right;\n",
       "    }\n",
       "</style>\n",
       "<table border=\"1\" class=\"dataframe\">\n",
       "  <thead>\n",
       "    <tr style=\"text-align: right;\">\n",
       "      <th></th>\n",
       "      <th>df</th>\n",
       "      <th>sum_sq</th>\n",
       "      <th>mean_sq</th>\n",
       "      <th>F</th>\n",
       "      <th>PR(&gt;F)</th>\n",
       "    </tr>\n",
       "  </thead>\n",
       "  <tbody>\n",
       "    <tr>\n",
       "      <th>C(voice)</th>\n",
       "      <td>7.0</td>\n",
       "      <td>12911.303982</td>\n",
       "      <td>1844.471997</td>\n",
       "      <td>45.641891</td>\n",
       "      <td>5.617050e-40</td>\n",
       "    </tr>\n",
       "    <tr>\n",
       "      <th>Residual</th>\n",
       "      <td>227.0</td>\n",
       "      <td>9173.483695</td>\n",
       "      <td>40.411822</td>\n",
       "      <td>NaN</td>\n",
       "      <td>NaN</td>\n",
       "    </tr>\n",
       "  </tbody>\n",
       "</table>\n",
       "</div>"
      ],
      "text/plain": [
       "             df        sum_sq      mean_sq          F        PR(>F)\n",
       "C(voice)    7.0  12911.303982  1844.471997  45.641891  5.617050e-40\n",
       "Residual  227.0   9173.483695    40.411822        NaN           NaN"
      ]
     },
     "execution_count": 15,
     "metadata": {},
     "output_type": "execute_result"
    }
   ],
   "source": [
    "lm = ols('height ~ C(voice)', data=data).fit()\n",
    "table = sm.stats.anova_lm(lm)\n",
    "table"
   ]
  },
  {
   "cell_type": "code",
   "execution_count": 16,
   "id": "0045655d",
   "metadata": {},
   "outputs": [],
   "source": [
    "values = data.groupby('voice')['height'].apply(list).reset_index()['height'].tolist()"
   ]
  },
  {
   "cell_type": "code",
   "execution_count": 19,
   "id": "e02104d5",
   "metadata": {},
   "outputs": [
    {
     "data": {
      "text/plain": [
       "F_onewayResult(statistic=45.6418910588508, pvalue=5.617049546739561e-40)"
      ]
     },
     "execution_count": 19,
     "metadata": {},
     "output_type": "execute_result"
    }
   ],
   "source": [
    "stats.f_oneway(*values)"
   ]
  },
  {
   "cell_type": "code",
   "execution_count": 20,
   "id": "6c20ff9a",
   "metadata": {},
   "outputs": [
    {
     "data": {
      "text/html": [
       "<div>\n",
       "<style scoped>\n",
       "    .dataframe tbody tr th:only-of-type {\n",
       "        vertical-align: middle;\n",
       "    }\n",
       "\n",
       "    .dataframe tbody tr th {\n",
       "        vertical-align: top;\n",
       "    }\n",
       "\n",
       "    .dataframe thead th {\n",
       "        text-align: right;\n",
       "    }\n",
       "</style>\n",
       "<table border=\"1\" class=\"dataframe\">\n",
       "  <thead>\n",
       "    <tr style=\"text-align: right;\">\n",
       "      <th></th>\n",
       "      <th>height</th>\n",
       "    </tr>\n",
       "    <tr>\n",
       "      <th>voice</th>\n",
       "      <th></th>\n",
       "    </tr>\n",
       "  </thead>\n",
       "  <tbody>\n",
       "    <tr>\n",
       "      <th>Alto 1</th>\n",
       "      <td>164.809714</td>\n",
       "    </tr>\n",
       "    <tr>\n",
       "      <th>Alto 2</th>\n",
       "      <td>167.734074</td>\n",
       "    </tr>\n",
       "    <tr>\n",
       "      <th>Bass 1</th>\n",
       "      <td>179.623590</td>\n",
       "    </tr>\n",
       "    <tr>\n",
       "      <th>Bass 2</th>\n",
       "      <td>181.316923</td>\n",
       "    </tr>\n",
       "    <tr>\n",
       "      <th>Soprano 1</th>\n",
       "      <td>163.195000</td>\n",
       "    </tr>\n",
       "    <tr>\n",
       "      <th>Soprano 2</th>\n",
       "      <td>162.475333</td>\n",
       "    </tr>\n",
       "    <tr>\n",
       "      <th>Tenor 1</th>\n",
       "      <td>175.018095</td>\n",
       "    </tr>\n",
       "    <tr>\n",
       "      <th>Tenor 2</th>\n",
       "      <td>177.558095</td>\n",
       "    </tr>\n",
       "  </tbody>\n",
       "</table>\n",
       "</div>"
      ],
      "text/plain": [
       "               height\n",
       "voice                \n",
       "Alto 1     164.809714\n",
       "Alto 2     167.734074\n",
       "Bass 1     179.623590\n",
       "Bass 2     181.316923\n",
       "Soprano 1  163.195000\n",
       "Soprano 2  162.475333\n",
       "Tenor 1    175.018095\n",
       "Tenor 2    177.558095"
      ]
     },
     "execution_count": 20,
     "metadata": {},
     "output_type": "execute_result"
    }
   ],
   "source": [
    "data.groupby('voice').mean()"
   ]
  },
  {
   "cell_type": "markdown",
   "id": "064285f3",
   "metadata": {},
   "source": [
    "<img src=\"data/bart.png\" alt=\"Drawing\" style=\"width: 700px;\"/>\n",
    "\n",
    "FYI: Тест левина не накладывает жестких ограничений на нормальность\n",
    "https://docs.scipy.org/doc/scipy/reference/generated/scipy.stats.levene.html"
   ]
  },
  {
   "cell_type": "code",
   "execution_count": 21,
   "id": "454e208f",
   "metadata": {},
   "outputs": [
    {
     "data": {
      "text/plain": [
       "BartlettResult(statistic=18.417706445737398, pvalue=0.010221018996479406)"
      ]
     },
     "execution_count": 21,
     "metadata": {},
     "output_type": "execute_result"
    }
   ],
   "source": [
    "stats.bartlett(*data.groupby('voice').groups.values())"
   ]
  },
  {
   "cell_type": "markdown",
   "id": "c7aa0e61",
   "metadata": {},
   "source": [
    "<img src=\"data/tukey.png\" alt=\"Drawing\" style=\"width: 700px;\"/>\n",
    "\n",
    "FYI: критерий Шеффе, LSD Фишера, критерий Неменьи"
   ]
  },
  {
   "cell_type": "code",
   "execution_count": 22,
   "id": "a400c158",
   "metadata": {},
   "outputs": [],
   "source": [
    "from statsmodels.stats.multicomp import pairwise_tukeyhsd\n",
    "tukey = pairwise_tukeyhsd(endog=data['height'],\n",
    " groups=data['voice'],\n",
    " alpha= 0.05 )\n"
   ]
  },
  {
   "cell_type": "code",
   "execution_count": 24,
   "id": "c6456a41",
   "metadata": {},
   "outputs": [
    {
     "name": "stdout",
     "output_type": "stream",
     "text": [
      "    Multiple Comparison of Means - Tukey HSD, FWER=0.05     \n",
      "============================================================\n",
      "  group1    group2  meandiff p-adj   lower    upper   reject\n",
      "------------------------------------------------------------\n",
      "   Alto 1    Alto 2   2.9244 0.6235  -2.0573    7.906  False\n",
      "   Alto 1    Bass 1  14.8139   -0.0  10.2855  19.3423   True\n",
      "   Alto 1    Bass 2  16.5072   -0.0  11.4717  21.5427   True\n",
      "   Alto 1 Soprano 1  -1.6147 0.9623  -6.2315   3.0021  False\n",
      "   Alto 1 Soprano 2  -2.3344 0.8195  -7.1734   2.5046  False\n",
      "   Alto 1   Tenor 1  10.2084    0.0     4.84  15.5768   True\n",
      "   Alto 1   Tenor 2  12.7484    0.0     7.38  18.1168   True\n",
      "   Alto 2    Bass 1  11.8895    0.0   7.0204  16.7587   True\n",
      "   Alto 2    Bass 2  13.5828    0.0   8.2389  18.9268   True\n",
      "   Alto 2 Soprano 1  -4.5391  0.099  -9.4905   0.4124  False\n",
      "   Alto 2 Soprano 2  -5.2587 0.0422  -10.418  -0.0995   True\n",
      "   Alto 2   Tenor 1    7.284 0.0027   1.6252  12.9428   True\n",
      "   Alto 2   Tenor 2    9.824    0.0   4.1652  15.4828   True\n",
      "   Bass 1    Bass 2   1.6933 0.9657  -3.2308   6.6175  False\n",
      "   Bass 1 Soprano 1 -16.4286   -0.0 -20.9237 -11.9335   True\n",
      "   Bass 1 Soprano 2 -17.1483   -0.0 -21.8714 -12.4252   True\n",
      "   Bass 1   Tenor 1  -4.6055 0.1352  -9.8696   0.6587  False\n",
      "   Bass 1   Tenor 2  -2.0655 0.9312  -7.3296   3.1987  False\n",
      "   Bass 2 Soprano 1 -18.1219   -0.0 -23.1275 -13.1164   True\n",
      "   Bass 2 Soprano 2 -18.8416   -0.0 -24.0528 -13.6303   True\n",
      "   Bass 2   Tenor 1  -6.2988 0.0192  -12.005  -0.5926   True\n",
      "   Bass 2   Tenor 2  -3.7588 0.4739   -9.465   1.9474  False\n",
      "Soprano 1 Soprano 2  -0.7197 0.9998  -5.5276   4.0882  False\n",
      "Soprano 1   Tenor 1  11.8231    0.0   6.4827  17.1635   True\n",
      "Soprano 1   Tenor 2  14.3631    0.0   9.0227  19.7035   True\n",
      "Soprano 2   Tenor 1  12.5428    0.0   7.0091  18.0764   True\n",
      "Soprano 2   Tenor 2  15.0828    0.0   9.5491  20.6164   True\n",
      "  Tenor 1   Tenor 2     2.54 0.9001  -3.4621   8.5421  False\n",
      "------------------------------------------------------------\n"
     ]
    }
   ],
   "source": [
    "print(tukey)"
   ]
  },
  {
   "cell_type": "code",
   "execution_count": null,
   "id": "2dc76471",
   "metadata": {},
   "outputs": [],
   "source": []
  }
 ],
 "metadata": {
  "kernelspec": {
   "display_name": "Python 3 (ipykernel)",
   "language": "python",
   "name": "python3"
  },
  "language_info": {
   "codemirror_mode": {
    "name": "ipython",
    "version": 3
   },
   "file_extension": ".py",
   "mimetype": "text/x-python",
   "name": "python",
   "nbconvert_exporter": "python",
   "pygments_lexer": "ipython3",
   "version": "3.7.11"
  }
 },
 "nbformat": 4,
 "nbformat_minor": 5
}
