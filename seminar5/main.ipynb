{
 "cells": [
  {
   "cell_type": "markdown",
   "id": "52dff512",
   "metadata": {},
   "source": [
    "# Критерии согласия"
   ]
  },
  {
   "cell_type": "markdown",
   "id": "96bf11e3",
   "metadata": {},
   "source": [
    "Критериями согласия (goodness of fit tests) называют статистические критерии, предназначенные для проверки гипотез о виде распределения наблюдаемой генеральной совокупности. Критерии согласия отвечают на вопрос, насколько хорошо экспериментальные данные согласуются с предполагаемой статистической моделью генеральной совокупности.\n",
    "\n",
    "Мы до сих пор работали в предположении, что наша выборка взята из нормального распределения. На самом деле, это утверждение неплохо было бы проверять.\n",
    "\n",
    "В Python, как и в любых других статистических пакетах, уже реализованы многие критерии, которые мы изучали. Давайте посмотрим, как применять эти критерии на практике."
   ]
  },
  {
   "cell_type": "code",
   "execution_count": 1,
   "id": "028171e0",
   "metadata": {},
   "outputs": [],
   "source": [
    "import numpy as np\n",
    "from scipy import stats\n",
    "import matplotlib.pyplot as plt\n",
    "np.random.seed(123)"
   ]
  },
  {
   "cell_type": "markdown",
   "id": "ba1400c6",
   "metadata": {},
   "source": [
    "## Критерий Колмогорова\n",
    "Начнем с критерия согласия Колмогорова. Этот критерий проверяет простую гипотезу о принадлежности выборки некоторому (непрерывному!) закону распределения. Если это распределение нормальное, то критерий Лилиефорса. Идея состоит в следующем: давайте сравним функции распределения двух распределений и если они сильно отличаются, то и распределения различны.\n",
    "\n",
    "<img src=\"data/kolmogorov_1.png\" alt=\"Drawing\" style=\"width: 700px;\"/>\n",
    "\n",
    "Различие функций распределения можно посчитать по-разному, и это будут различные критерии (критерий Крамера-Мизеса еще называют омега квадрат):\n",
    "\n",
    "<img src=\"data/kolmogorov_2.png\" alt=\"Drawing\" style=\"width: 700px;\"/>\n",
    "<img src=\"data/kolmogorov_3.png\" alt=\"Drawing\" style=\"width: 700px;\"/>\n",
    "\n",
    "Критерий Колмогорова реализован с помощью функции kstest в модуле stats:\n",
    "* **stats.kstest(sample, cdf)** — тут sample — реализация нашей выборки и cdf — функция распределения закона, с которым сравниваем."
   ]
  },
  {
   "cell_type": "code",
   "execution_count": 2,
   "id": "5630c260",
   "metadata": {},
   "outputs": [],
   "source": [
    "n = 500 # размер выборки"
   ]
  },
  {
   "cell_type": "code",
   "execution_count": 3,
   "id": "1ac50086",
   "metadata": {},
   "outputs": [],
   "source": [
    "sample1 = np.random.rand(n) # выборка 1 из равномерного распределения на [0,1]\n",
    "sample2 = np.random.beta(2,2,size = n) # выборка 2 из бета-распределения с параметрами (2,2)"
   ]
  },
  {
   "cell_type": "code",
   "execution_count": 4,
   "id": "334e9994",
   "metadata": {},
   "outputs": [
    {
     "data": {
      "image/png": "[encoded data removed]",
      "text/plain": [
       "<Figure size 864x576 with 2 Axes>"
      ]
     },
     "metadata": {
      "needs_background": "light"
     },
     "output_type": "display_data"
    }
   ],
   "source": [
    "# давайте сначала посмотрим на гистограммы для sample1 и sample2\n",
    "\n",
    "plt.figure(figsize=(12,8))\n",
    "plt.subplot(2,2,1)\n",
    "plt.hist(sample1, bins=20)\n",
    "plt.subplot(2,2,2)\n",
    "plt.hist(sample2, bins=20)\n",
    "plt.show()"
   ]
  },
  {
   "cell_type": "code",
   "execution_count": 5,
   "id": "2d5f1a7d",
   "metadata": {},
   "outputs": [
    {
     "data": {
      "text/plain": [
       "KstestResult(statistic=0.02977893867201975, pvalue=0.7553346739924274)"
      ]
     },
     "execution_count": 5,
     "metadata": {},
     "output_type": "execute_result"
    }
   ],
   "source": [
    "# Запускаем критерий Колмогорова для sample1, \n",
    "# проверяем гипотезу о том, что выборка взята из равномерного распределения на [0,1].\n",
    "# Должны получить большой p-value (что будет означать, что значение статистики попало в область вероятных значений).\n",
    "\n",
    "stats.kstest(sample1, stats.uniform.cdf)"
   ]
  },
  {
   "cell_type": "code",
   "execution_count": 6,
   "id": "59acc304",
   "metadata": {},
   "outputs": [
    {
     "data": {
      "text/plain": [
       "KstestResult(statistic=0.109059197161369, pvalue=1.2372423114520465e-05)"
      ]
     },
     "execution_count": 6,
     "metadata": {},
     "output_type": "execute_result"
    }
   ],
   "source": [
    "# Запускаем критерий Колмогорова для sample2, \n",
    "# проверяем гипотезу о том, что выборка взята из равномерного распределения на [0,1].\n",
    "# Должны получить малый p-value (что будет означать, что значение статистики попало в область маловероятных значений).\n",
    "\n",
    "stats.kstest(sample2, stats.uniform.cdf)"
   ]
  },
  {
   "cell_type": "code",
   "execution_count": 7,
   "id": "30699c32",
   "metadata": {},
   "outputs": [
    {
     "data": {
      "text/plain": [
       "KstestResult(statistic=0.09860184733194155, pvalue=0.00011034826529907896)"
      ]
     },
     "execution_count": 7,
     "metadata": {},
     "output_type": "execute_result"
    }
   ],
   "source": [
    "# Запускаем критерий Колмогорова для sample1, \n",
    "# проверяем гипотезу о том, что выборка взята из бета-распределения с параметрами (2,2).\n",
    "# Обратите внимание на то, как передавать параметры для функции плотности.\n",
    "\n",
    "stats.kstest(sample1, stats.beta.cdf, args=(2,2))"
   ]
  },
  {
   "cell_type": "code",
   "execution_count": 8,
   "id": "4c4ed1e5",
   "metadata": {},
   "outputs": [
    {
     "data": {
      "text/plain": [
       "KstestResult(statistic=0.02371261906513944, pvalue=0.93486405001062)"
      ]
     },
     "execution_count": 8,
     "metadata": {},
     "output_type": "execute_result"
    }
   ],
   "source": [
    "# Запускаем критерий Колмогорова для sample2, \n",
    "# проверяем гипотезу о том, что выборка взята из бета-распределения с параметрами (2,2).\n",
    "\n",
    "stats.kstest(sample2, stats.beta.cdf, args=(2,2))"
   ]
  },
  {
   "cell_type": "markdown",
   "id": "42c514ae",
   "metadata": {},
   "source": [
    "## Критерий $\\chi^2$\n",
    "\n",
    "\n",
    "**Выборка**    $X_n = {X_1 ... X_n}$ из нормального распределения , при этом $\\sigma$ неизвестно.\n",
    "\n",
    "**Нулевая гипотеза**    $H_0: F(x, \\theta) \\sim G(x)$\n",
    "\n",
    "**Альтернативная гипотеза**     $H_1: F(x, \\theta) \\not\\sim  G(x) $ \n",
    "\n",
    "Мы разбиваем область определения нашей величины на $K$ интервалов (бакетов/карманов). Границы этих интервалов – $a_i$. Подсчитаем следующие значения:\n",
    "\n",
    "$n_i$ - количество элементов нашей выборки в интервале $[a_i,a_{i+1}]$\n",
    "\n",
    "$p_i$ - вероятность попадания значения в интервал $[a_i,a_{i+1}]$ при условии справедливости $H_0$. Нам для этого надо будет взять функцию распределения и посчитать ее разность в точках $a_i$ и $a_{i+1}$:\n",
    "\n",
    "$p_i = \\int_{a_i}^{a_{i+1}} g(x)dx$\n",
    "\n",
    "\n",
    "\n",
    "\n",
    "\n",
    "**Статистика** $\\chi^2(X_n) = \\sum^{K}_{i=1}\\dfrac{(n_i-np_i)^2}{np_i}$\n",
    "\n",
    "**Нулевое распределение** $\\chi^2(X_n) = \\chi^2_{K - r - 1}$ , где r - число неизвестных параметров распределения\n"
   ]
  },
  {
   "cell_type": "markdown",
   "id": "51dcde86",
   "metadata": {},
   "source": [
    "Теперь перейдем к критерию согласия хи-квадрат. Этот критерий реализован с помощью функции chisquare в модуле stats:\n",
    "    \n",
    "* **stats.chisquare(obs, exp)** — тут obs — количества попаданий в каждую \"ячейку\" и exp — ожидаемые количества попаданий в каждую \"ячейку\".\n",
    "\n",
    "P.S. Обратите внимание на то, что мы передаем в функцию chisquare не вероятности (эмпирические и истинные), а количества!"
   ]
  },
  {
   "cell_type": "markdown",
   "id": "a562e63d",
   "metadata": {},
   "source": [
    "В экспериментах с селекцией гороха Мендель наблюдал частоты различных видов семян, получаемых при скрещивании растений с круглыми желтыми семенами и растений с морщинистыми зелеными семенами. Эти данные и значения теоретических вероятностей, определяемые в соответствии с законом Менделя, приведены в следующей таблице:\n",
    "\n",
    "| Тип семян            | Частота | Вероятность |\n",
    "|:-------------------- |:-------:| -----------:|\n",
    "| Круглые и желтые     | 315/556 | 9/16        |\n",
    "| Морщинистые и желтые | 101/556 | 3/16        |\n",
    "| Круглые и зеленые    | 108/556 | 3/16        |\n",
    "| Морщинистые и зеленые| 32/556  | 1/16        |\n",
    "\n",
    "Необходимо проверить гипотезу $H_0$ о согласованности частот с теоретическими вероятностями при помощи критерия хи-квадрат."
   ]
  },
  {
   "cell_type": "code",
   "execution_count": 9,
   "id": "fa8b2602",
   "metadata": {},
   "outputs": [],
   "source": [
    "# занесем данные из таблицы в массивы\n",
    "\n",
    "obs = np.array([315/556, 101/556, 108/556, 32/556])\n",
    "exp = np.array([9/16, 3/16, 3/16, 1/16])"
   ]
  },
  {
   "cell_type": "code",
   "execution_count": 10,
   "id": "d78525a2",
   "metadata": {},
   "outputs": [],
   "source": [
    "# вспомним о том, что в функцию chisquare мы должны передавать количества, а не частоты\n",
    "\n",
    "obs = obs*556\n",
    "exp = exp*556"
   ]
  },
  {
   "cell_type": "code",
   "execution_count": 11,
   "id": "738f85b8",
   "metadata": {},
   "outputs": [
    {
     "data": {
      "text/plain": [
       "Power_divergenceResult(statistic=0.4700239808153487, pvalue=0.9254258951036157)"
      ]
     },
     "execution_count": 11,
     "metadata": {},
     "output_type": "execute_result"
    }
   ],
   "source": [
    "# запускаем критерий хи-квадрат\n",
    "\n",
    "stats.chisquare(obs, exp)"
   ]
  },
  {
   "cell_type": "markdown",
   "id": "7bda5b7f",
   "metadata": {},
   "source": [
    "## Проверка нормальности"
   ]
  },
  {
   "cell_type": "markdown",
   "id": "183f9fb0",
   "metadata": {},
   "source": [
    "Очень важный тип критериев согласия — это проверка нормальности. Можно использовать для этого стандартные критерии согласия, но лучше воспользоваться специализированными: \n",
    "\n",
    "* **qqplot(sample, dist, line='r')** — построение квантильного графика (Q-Q Plot) — визуальная проверка любого критерия согласия о масштабе/сдвиге. Аргументы: sample — наша выборка, dits — распределение, с которым сравниваем (если этот параметр не указан, то используется нормальное распределение), line='r' — подгоняет прямую под облако точек, чтобы было проще визуально сравнивать.\n",
    "* **stats.shapiro(sample)** — критерий Шапиро-Уилка. Аргументы: sample — наша выборка.\n",
    "* **stats.jarque_bera(sample)** — критерий Харке-Бера. Аргументы: sample — наша выборка."
   ]
  },
  {
   "cell_type": "markdown",
   "id": "8dbb421e",
   "metadata": {},
   "source": [
    "### Чтобы построить QQ-график, нужно:\n",
    "\n",
    "* отсортировать выборку по неубыванию.\n",
    "* каждая точка выборки ставится на QQ-график, значения отображаются по оси Y\n",
    "* значение по Х - мат.ожидание квантиля распределения N(0,1), посчитанного по выборке такого как в нашем эксперименте объема.\n",
    "\n",
    "Понятно, что в случае нормальной выборки этот график должен лечь на прямую или, по крайней мере, быть близок к ней. Если ваши точки лучше описываются не прямой, а какой-то другой функцией, то наверняка ваше выборка далека от нормальности. "
   ]
  },
  {
   "cell_type": "code",
   "execution_count": 12,
   "id": "3ad2d96a",
   "metadata": {},
   "outputs": [],
   "source": [
    "# поменяем размер выборки, если нужно\n",
    "\n",
    "n = 500"
   ]
  },
  {
   "cell_type": "code",
   "execution_count": 13,
   "id": "1616024c",
   "metadata": {},
   "outputs": [],
   "source": [
    "sample1 = np.random.normal(1,2, size=n) # выборка из нормального распределения\n",
    "sample2 = np.random.beta(2,2,size = n) # выборка из бета-распределения с параметрами (2,2)"
   ]
  },
  {
   "cell_type": "code",
   "execution_count": 14,
   "id": "4a02ccad",
   "metadata": {},
   "outputs": [],
   "source": [
    "from statsmodels.graphics.gofplots import qqplot # импортируем функцию qqplot"
   ]
  },
  {
   "cell_type": "code",
   "execution_count": 15,
   "id": "93697d3b",
   "metadata": {},
   "outputs": [
    {
     "data": {
      "image/png": "[encoded data removed]",
      "text/plain": [
       "<Figure size 432x288 with 1 Axes>"
      ]
     },
     "metadata": {
      "needs_background": "light"
     },
     "output_type": "display_data"
    }
   ],
   "source": [
    "# график квантилей для sample1\n",
    "\n",
    "qqplot(sample1, line='s')\n",
    "plt.show()"
   ]
  },
  {
   "cell_type": "code",
   "execution_count": 16,
   "id": "5aa2230c",
   "metadata": {},
   "outputs": [
    {
     "data": {
      "image/png": "[encoded data removed]",
      "text/plain": [
       "<Figure size 432x288 with 1 Axes>"
      ]
     },
     "metadata": {
      "needs_background": "light"
     },
     "output_type": "display_data"
    }
   ],
   "source": [
    "# график квантилей для sample2\n",
    "\n",
    "qqplot(sample2, line='s')\n",
    "plt.show()"
   ]
  },
  {
   "cell_type": "markdown",
   "id": "dae85d0f",
   "metadata": {},
   "source": [
    "## Критерий Шапиро-Уилка\n",
    "<img src=\"data/shapiro.png\" alt=\"Drawing\" style=\"width: 700px;\"/>\n"
   ]
  },
  {
   "cell_type": "code",
   "execution_count": 17,
   "id": "78f0b755",
   "metadata": {},
   "outputs": [
    {
     "data": {
      "text/plain": [
       "ShapiroResult(statistic=0.9959383010864258, pvalue=0.2265419065952301)"
      ]
     },
     "execution_count": 17,
     "metadata": {},
     "output_type": "execute_result"
    }
   ],
   "source": [
    "# запускаем критерий Шапиро-Уилка для sample1\n",
    "\n",
    "stats.shapiro(sample1)"
   ]
  },
  {
   "cell_type": "code",
   "execution_count": 18,
   "id": "7b20635e",
   "metadata": {},
   "outputs": [
    {
     "data": {
      "text/plain": [
       "ShapiroResult(statistic=0.9849844574928284, pvalue=4.944821193930693e-05)"
      ]
     },
     "execution_count": 18,
     "metadata": {},
     "output_type": "execute_result"
    }
   ],
   "source": [
    "# запускаем критерий Шапиро-Уилка для sample2\n",
    "\n",
    "stats.shapiro(sample2)"
   ]
  },
  {
   "cell_type": "markdown",
   "id": "3f114935",
   "metadata": {},
   "source": [
    "## Критерий Харке-Бера\n",
    "\n",
    "$\\gamma_1, \\gamma_2$ - Коэффициент ассиметрии и эксцесса\n",
    "<img src=\"data/ber.png\" alt=\"Drawing\" style=\"width: 700px;\"/>\n"
   ]
  },
  {
   "cell_type": "code",
   "execution_count": 19,
   "id": "22214671",
   "metadata": {},
   "outputs": [
    {
     "data": {
      "text/plain": [
       "Jarque_beraResult(statistic=0.5047526531339083, pvalue=0.7769522952554369)"
      ]
     },
     "execution_count": 19,
     "metadata": {},
     "output_type": "execute_result"
    }
   ],
   "source": [
    "# запускаем критерий Харке-Бера для sample1\n",
    "\n",
    "stats.jarque_bera(sample1)"
   ]
  },
  {
   "cell_type": "code",
   "execution_count": 20,
   "id": "5792524a",
   "metadata": {},
   "outputs": [
    {
     "data": {
      "text/plain": [
       "Jarque_beraResult(statistic=13.737779567593636, pvalue=0.001039630638919098)"
      ]
     },
     "execution_count": 20,
     "metadata": {},
     "output_type": "execute_result"
    }
   ],
   "source": [
    "# запускаем критерий Харке-Бера для sample2\n",
    "\n",
    "stats.jarque_bera(sample2)"
   ]
  },
  {
   "cell_type": "markdown",
   "id": "bdc20caa",
   "metadata": {},
   "source": [
    "## Заключение о проверке нормальности\n",
    "\n",
    "* выбросы: сильно влияют на выборочные коэффициенты асимметрии и эксцесса\n",
    "* критерий Лиллиефорса: представляет только исторический интерес\n",
    "* критерий хи-квадрат: слишком общий, не самый мощный, потеря информации из-за разбиения на интервалы\n",
    "<img src=\"data/table.png\" alt=\"Drawing\" style=\"width: 700px;\"/>\n",
    "\n",
    "## А зачем нам вообще проверять нормальность?\n",
    "\n",
    "Часто используются тесты, предполагающие нормальность данных, но t-тесты, например, работают и в случае некоторого отклонения от нормальности. В реальной жизни нормальных выборок не существует, потому что нормальное распределение - модель, она должна **в каком-то смысле** адекватно описывать реальную ситуацию. Кроме того, проверка нормальности - тоже статистический тест, а значит на маленьких выборках мы почти никогжа не сможем отвергнуть нормальность, а на очень больших выборках – почти всегда будем ее отвергать. Поэтому предлагаю следующий способ использования:\n",
    "\n",
    "1) Смотрим на специфику наших данных. Если они категориальные или бинарные, лучше использовать специальные критерии для них.\n",
    "\n",
    "2) Если величина непрерывная, постройте QQ-график. Если на нем выборка не очень сильно отклоняется от прямой, можно смело применять устойчивые к небольшим отклонениям методы. Например критерий Стьюдента.\n",
    "\n",
    "3) Если ваш метод все-таки чувствителен к нормальности, оцифруйте отклонение с помощью критерия Шапиро-Уилка \n",
    "\n",
    "4) Если критерий Шапиро-Уилка отвергает нормальность, лучше применить другой метод (например непараметрический, который не делает никаких предположений о конкретном характере распределения)\n"
   ]
  },
  {
   "cell_type": "markdown",
   "id": "93b49cad",
   "metadata": {},
   "source": [
    "#  Критерии знаков"
   ]
  },
  {
   "cell_type": "markdown",
   "id": "cb691317",
   "metadata": {},
   "source": [
    "Критерий знаков - непараметрический критерий, который позволяет проверять гипотезы равенства медианы какому-то наперед заданному значению (одновыборочный критерий знаков) или равенства нулю разности медиан в двух связанных выборках (критерий знаков для двух связанных выборок). \n",
    "\n",
    "**Плюсы:** Критерий не использует вообще никаких предположений о распределениях наших факторов и достаточно легок в вычислении.\n",
    "\n",
    "**Минусы:** Эмпирически показано, что имеет меньшую мощность (вероятность ошибки 2 рода больше), чем другие, более специализированные критерии\n",
    "\n"
   ]
  },
  {
   "cell_type": "markdown",
   "id": "93464984",
   "metadata": {},
   "source": [
    "# Одновыборочный критерий\n",
    "\n",
    "Вы прогуливались по Таймс-скверу и решили поспрашивать у прохожих их годовую зарплату в долларах. Почти наверное такое распределение будет сильно скошено. Где-то вы слышали, что средняя зарплата в этом районе города около 50000 долларов в год. Вы получили следующие данные в ходе опроса:"
   ]
  },
  {
   "cell_type": "code",
   "execution_count": 21,
   "id": "6aed803c",
   "metadata": {},
   "outputs": [],
   "source": [
    "salaries = [8478,21564,36562,176602,9395,18320,50000,2,40298,39,10780,2268583,3404930]"
   ]
  },
  {
   "cell_type": "code",
   "execution_count": 22,
   "id": "060b9cfc",
   "metadata": {},
   "outputs": [],
   "source": [
    "from statsmodels.stats.weightstats import *"
   ]
  },
  {
   "cell_type": "code",
   "execution_count": 23,
   "id": "c8e9aafe",
   "metadata": {},
   "outputs": [
    {
     "data": {
      "image/png": "[encoded data removed]",
      "text/plain": [
       "<Figure size 432x288 with 1 Axes>"
      ]
     },
     "metadata": {
      "needs_background": "light"
     },
     "output_type": "display_data"
    }
   ],
   "source": [
    "qqplot(np.array(salaries), line='s')\n",
    "plt.show()"
   ]
  },
  {
   "cell_type": "markdown",
   "id": "28a0d9e6",
   "metadata": {},
   "source": [
    "Наши данные от нормальности весьма далеки."
   ]
  },
  {
   "cell_type": "markdown",
   "id": "fef22c84",
   "metadata": {},
   "source": [
    "**Выборка**    $X_n = {X_1 ... X_n}$ \n",
    "\n",
    "**Нулевая гипотеза**    $H_0: median(X) = M$\n",
    "\n",
    "**Альтернативная гипотеза**     $H_1: median(X) \\not= M$ (двусторонняя альтернатива)\n",
    "\n",
    "**Статистика** $T(X_n) = \\sum_i[X_i>M]$ Здесь $[]$- индикаторная функция (равна 1, если условие в скобках истинно и нулю в противном случае)\n",
    "\n",
    "**Нулевое распределение** $T \\sim Binomial(n,\\dfrac{1}{2})$"
   ]
  },
  {
   "cell_type": "code",
   "execution_count": 24,
   "id": "85bbbd3c",
   "metadata": {},
   "outputs": [],
   "source": [
    "from statsmodels.stats.descriptivestats import sign_test"
   ]
  },
  {
   "cell_type": "code",
   "execution_count": 25,
   "id": "10d7d697",
   "metadata": {},
   "outputs": [
    {
     "data": {
      "text/plain": [
       "(-3.0, 0.14599609375)"
      ]
     },
     "execution_count": 25,
     "metadata": {},
     "output_type": "execute_result"
    }
   ],
   "source": [
    "sign_test(salaries, 50000)"
   ]
  },
  {
   "cell_type": "markdown",
   "id": "4a5d2138",
   "metadata": {},
   "source": [
    "Нулевая гипотеза НЕ отвергается (По данным нельзя сказать, что 50000 - плохая оценка медианы)."
   ]
  },
  {
   "cell_type": "markdown",
   "id": "78c25bef",
   "metadata": {},
   "source": [
    "# Критерий для двух связанных выборок"
   ]
  },
  {
   "cell_type": "markdown",
   "id": "1aed631e",
   "metadata": {},
   "source": [
    "**Выборки**    $X_1^{n1} = {X_{11} ... X_{1n_1}}$ и выборка $X_2^{n2} = {X_{21} ... X_{2n_2}}$ \n",
    "\n",
    "**Нулевая гипотеза**    $H_0: P(X_1 > X_2) = \\frac{1}{2}$\n",
    "\n",
    "**Альтернативная гипотеза**     $H_1: P(X_1 > X_2) \\not= \\frac{1}{2}$ (Двусторонняя альтернатива)\n",
    "\n",
    "**Статистика** $T(X_n) = \\sum_i[X_{1i}> X_{2i}]$ Здесь $[]$- индикаторная функция (равна 1, если условие в скобках истинно и нулю в противном случае)\n",
    "\n",
    "**Нулевое распределение** $T(X_1^{n1},X_2^{n2}) \\sim Binomial(n,\\dfrac{1}{2})$"
   ]
  },
  {
   "cell_type": "markdown",
   "id": "8b3ec683",
   "metadata": {},
   "source": [
    "Рассмотрим следующую задачу:\n",
    "Пусть мы хотим сравнить то, как работают различные алгоритмы машинного обучения  . Воспользуемся [данными](https://github.com/catboost/benchmarks/tree/master/quality_benchmarks) о качестве работы популярного метода градиентного бустинга Catboost c тюнингом гиперпараметров. О методологии можно прочесть [Здесь](https://github.com/catboost/benchmarks/blob/master/quality_benchmarks/comparison_description.pdf). Качество работы измерено с помощью показателя LogLoss, важно понимать, что чем он меньше, тем результат работы классификатора лучше. Проверим гипотезу о том, что \"В среднем\" LogLoss, который показывает другой алгоритм - LightGBM - больше, чем у Catboost."
   ]
  },
  {
   "cell_type": "code",
   "execution_count": 26,
   "id": "c04f3398",
   "metadata": {},
   "outputs": [],
   "source": [
    "from bs4 import BeautifulSoup\n",
    "import requests"
   ]
  },
  {
   "cell_type": "code",
   "execution_count": 27,
   "id": "fb10a540",
   "metadata": {},
   "outputs": [],
   "source": [
    "url = BeautifulSoup(requests.get('https://github.com/catboost/benchmarks/tree/master/quality_benchmarks').text)"
   ]
  },
  {
   "cell_type": "code",
   "execution_count": 28,
   "id": "8930c430",
   "metadata": {},
   "outputs": [],
   "source": [
    "table = url.find_all('table')[0]"
   ]
  },
  {
   "cell_type": "code",
   "execution_count": 29,
   "id": "42e680f2",
   "metadata": {},
   "outputs": [],
   "source": [
    "catboost, lightgbm, difference = [], [], []\n",
    "for row in table.find_all('tr')[1:]:\n",
    "    c = float(row.find_all('td')[2].text.split()[0])\n",
    "    catboost.append(c)\n",
    "    \n",
    "    l = float(row.find_all('td')[4].text.split()[0])\n",
    "    lightgbm.append(l)\n",
    "    difference.append(l - c)\n",
    "\n"
   ]
  },
  {
   "cell_type": "code",
   "execution_count": 30,
   "id": "4a091397",
   "metadata": {},
   "outputs": [
    {
     "data": {
      "text/plain": [
       "(4.5, 0.00390625)"
      ]
     },
     "execution_count": 30,
     "metadata": {},
     "output_type": "execute_result"
    }
   ],
   "source": [
    "sign_test(difference)"
   ]
  },
  {
   "cell_type": "markdown",
   "id": "e0b250c0",
   "metadata": {},
   "source": [
    "Критерий уверенно отвергает гипотезу о совпадении средних (В самом деле - Catboost почти везде победил)\n",
    "\n",
    "Общий смысл того, что мы делали до сих пор – попытка превратить выборку из неизвестного нам распределения в бинарную."
   ]
  },
  {
   "cell_type": "markdown",
   "id": "9948ee6e",
   "metadata": {},
   "source": [
    "# Критерии рангов\n",
    "\n",
    "Превращая выборку в список бинарных величин мы , на самом деле, отбрасываем значительную часть информации, которая в выборке содержится (отсюда и снижение мощности критерия). Давайте попробуем сохранить еще какую-то часть информации о выборке, а именно – порядок следования элементов или ранг. "
   ]
  },
  {
   "cell_type": "markdown",
   "id": "2fcd97e6",
   "metadata": {},
   "source": [
    "## Критерий Манна-Уитни\n",
    "\n",
    "**Выборки**    $X_1^{n1} = {X_{11} ... X_{1n_1}}$ и выборка $X_2^{n2} = {X_{21} ... X_{2n_2}}$ \n",
    "\n",
    "Часто говорят, что критерий проверяет гипотезу о сдвиге распределений, из которых взяты выборки друг относительно друга. По сути, это не совсем так.  Гипотезу часто формулируют как \"выборки взяты из одного распределения\". Здесь имеется в виду, что если взять вариационный ряд из двух выборок, значения из первой и второй выборок будут по нему равномерно рассеяны. Чем меньше значение критерия, тем вероятнее, что различия между значениями параметра в выборках достоверны. То есть:\n",
    "\n",
    "**Нулевая гипотеза**: $F_{X_1} = F_{X_2}$ - значения из выборок равномерно рассеяны в вариационном ряде.\n",
    "\n",
    "**Альтернативная гипотеза (двусторонняя альтернатива)**  $F_{X_1} \\not= F_{X_2}$ - значения в какой-то из выборок рассеяны в вариационном ряде неравномерно.\n",
    "\n",
    "\n",
    "**Статистика** Уложим обе наши выборки в один вариационный ряд. После чего подсчитаем сумму рангов, приходящуюся на элементы первой выборки ($R_1$) и на элементы  второй выборки ($R_2$). \n",
    "\n",
    "$$U_1 = n_1n_2 + \\dfrac{n_2(n_2+1)}{2} - R_1$$\n",
    "\n",
    "$$U_2 = n_1n_2 + \\dfrac{n_1(n_1+1)}{2} - R_2$$\n",
    "\n",
    "$$U = min(U_1, U_2)$$\n",
    "\n",
    "**Нулевое распределение** Табличное, но есть нормальное приближение :)\n"
   ]
  },
  {
   "cell_type": "markdown",
   "id": "39d979c1",
   "metadata": {},
   "source": [
    "Если выборки взяты из одного распределения, то каждый из рангов мог равновероятно реализоваться в первой или второй выборке. Всего вариантов реализаций рангов будет $C^{n1}_{n_1+n_2}$. Давайте переберем их все и на каждом из этих вариантов мы получим значение статистики Манна-Уитни. Удивительно, но уже при 10 объектах в каждой из выборок распределение критерия очень похоже на нормальное вот с такими параметрами:\n",
    "\n",
    "$$R_1 \\sim N(\\dfrac{n_1(n_1+n_2+1)}{2},\\dfrac{n_1n_2(n_1+n_2+1)}{12})$$\n",
    "\n",
    "Например в известном нам пакете Scipy p-value для критерия Манна-Уитни именно с помощью его нормальной аппроксимации."
   ]
  },
  {
   "cell_type": "code",
   "execution_count": 31,
   "id": "1c170add",
   "metadata": {},
   "outputs": [],
   "source": [
    "from scipy.stats import mannwhitneyu\n"
   ]
  },
  {
   "cell_type": "markdown",
   "id": "745d1724",
   "metadata": {},
   "source": [
    "Говорят \"быстрая\" сортировка aka Quicksort хорошо работает на реальных данных. Кроме того, говорят, что не менее известная сортировка MergeSort тоже довольно хороша, причем даже для весьма плохих случаев. Не вдаваясь в особенности амортизационного анализа алгоритмов, давайте проведем эксперимент и измерим время работы алгоритмов Quicksort и MergeSort и проверим, что же быстрее работает на случайных данных.\n",
    "Реализуем сортировку Quicksort. Как это работает можно посмотреть [здесь](https://www.youtube.com/watch?v=7h1s2SojIRw&t=366s). За опорную точку будем выбирать начальный элемент.\n",
    "\n",
    "А MergeSort работает [так](https://www.youtube.com/watch?v=mB5HXBb_HY8).\n",
    "\n",
    "Сравнивать наши результаты мы будем в предположении, что генератор случайных чисел в среднем создает списки, одинаково сложные для сортировки."
   ]
  },
  {
   "cell_type": "code",
   "execution_count": 32,
   "id": "1b1ac4a2",
   "metadata": {},
   "outputs": [],
   "source": [
    "def partition(array, start, end):\n",
    "    pivot = start \n",
    "    for i in range(start+1, end+1):\n",
    "        if array[i] <= array[start]:\n",
    "            pivot += 1\n",
    "            array[i], array[pivot] = array[pivot], array[i]\n",
    "    array[pivot], array[start] = array[start], array[pivot]\n",
    "    return pivot\n",
    " \n",
    "def quick_sort(array, start=0, end=None):\n",
    "    if end is None:\n",
    "        end = len(array) - 1\n",
    "    \n",
    "    def _quicksort(array, start, end):\n",
    "        if start >= end:\n",
    "            return \n",
    "        pivot = partition(array, start, end)\n",
    "        _quicksort(array, start, pivot-1)\n",
    "        _quicksort(array, pivot+1, end)\n",
    "    return _quicksort(array, start, end)\n",
    "\n",
    "def merge(left_list, right_list):  \n",
    "    sorted_list = []\n",
    "    left_list_index = right_list_index = 0\n",
    "\n",
    "    # Длина списков часто используется, поэтому создадим переменные для удобства\n",
    "    left_list_length, right_list_length = len(left_list), len(right_list)\n",
    "\n",
    "    for _ in range(left_list_length + right_list_length):\n",
    "        if left_list_index < left_list_length and right_list_index < right_list_length:\n",
    "            # Сравниваем первые элементы в начале каждого списка\n",
    "            # Если первый элемент левого подсписка меньше, добавляем его\n",
    "            # в отсортированный массив\n",
    "            if left_list[left_list_index] <= right_list[right_list_index]:\n",
    "                sorted_list.append(left_list[left_list_index])\n",
    "                left_list_index += 1\n",
    "            # Если первый элемент правого подсписка меньше, добавляем его\n",
    "            # в отсортированный массив\n",
    "            else:\n",
    "                sorted_list.append(right_list[right_list_index])\n",
    "                right_list_index += 1\n",
    "\n",
    "        # Если достигнут конец левого списка, элементы правого списка\n",
    "        # добавляем в конец результирующего списка\n",
    "        elif left_list_index == left_list_length:\n",
    "            sorted_list.append(right_list[right_list_index])\n",
    "            right_list_index += 1\n",
    "        # Если достигнут конец правого списка, элементы левого списка\n",
    "        # добавляем в отсортированный массив\n",
    "        elif right_list_index == right_list_length:\n",
    "            sorted_list.append(left_list[left_list_index])\n",
    "            left_list_index += 1\n",
    "\n",
    "    return sorted_list\n",
    "\n",
    "def merge_sort(nums):  \n",
    "    # Возвращаем список, если он состоит из одного элемента\n",
    "    if len(nums) <= 1:\n",
    "        return nums\n",
    "\n",
    "    # Для того чтобы найти середину списка, используем деление без остатка\n",
    "    # Индексы должны быть integer\n",
    "    mid = len(nums) // 2\n",
    "\n",
    "    # Сортируем и объединяем подсписки\n",
    "    left_list = merge_sort(nums[:mid])\n",
    "    right_list = merge_sort(nums[mid:])\n",
    "\n",
    "    # Объединяем отсортированные списки в результирующий\n",
    "    return merge(left_list, right_list)\n"
   ]
  },
  {
   "cell_type": "code",
   "execution_count": 33,
   "id": "0ffd3f0a",
   "metadata": {},
   "outputs": [],
   "source": [
    "from datetime import datetime as dt\n",
    "\n",
    "quicksorted, mergesorted = [], []\n",
    "\n",
    "for _ in range(400):\n",
    "    l = list(np.random.rand(500))\n",
    "    t0 = float(dt.utcnow().timestamp())\n",
    "    f = quick_sort(l)\n",
    "    t1 =  float(dt.utcnow().timestamp()) - t0\n",
    "    quicksorted.append(t1)\n",
    "    \n",
    "for _ in range(400):\n",
    "    l = list(np.random.rand(500))\n",
    "    t0 = float(dt.utcnow().timestamp())\n",
    "    f = merge_sort(l)\n",
    "    t1 =  float(dt.utcnow().timestamp()) - t0\n",
    "    mergesorted.append(t1)"
   ]
  },
  {
   "cell_type": "code",
   "execution_count": 34,
   "id": "84f89cd2",
   "metadata": {},
   "outputs": [],
   "source": [
    "import matplotlib.pyplot as plt"
   ]
  },
  {
   "cell_type": "code",
   "execution_count": 35,
   "id": "2eb16f9a",
   "metadata": {},
   "outputs": [],
   "source": [
    "y, x = np.histogram(np.array(quicksorted), bins = 30)\n"
   ]
  },
  {
   "cell_type": "code",
   "execution_count": 36,
   "id": "d1e0a1ad",
   "metadata": {},
   "outputs": [
    {
     "data": {
      "image/png": "[encoded data removed]",
      "text/plain": [
       "<Figure size 504x360 with 1 Axes>"
      ]
     },
     "metadata": {
      "needs_background": "light"
     },
     "output_type": "display_data"
    }
   ],
   "source": [
    "import matplotlib.pyplot as plt\n",
    "import numpy as np\n",
    "\n",
    "fig, axs = plt.subplots(1, 1, figsize=(7,5))\n",
    "hist = axs.hist(quicksorted, np.arange(0, max(quicksorted), 0.0001), label = 'quick') \n",
    "hist2 = axs.hist(mergesorted, np.arange(0, max(mergesorted), 0.0001), label = 'merge')\n",
    "plt.legend()\n",
    "plt.show()"
   ]
  },
  {
   "cell_type": "markdown",
   "id": "b6e836ee",
   "metadata": {},
   "source": [
    "Вообще говоря, оба распределения не нормальные (Как минимум - они ограничены слева нулем). Поэтому чтобы протестировать значимость этого различия мы будем использовать критерий Манна-Уитни."
   ]
  },
  {
   "cell_type": "code",
   "execution_count": 37,
   "id": "23c84635",
   "metadata": {},
   "outputs": [
    {
     "data": {
      "text/plain": [
       "MannwhitneyuResult(statistic=0.0, pvalue=2.233346183303549e-132)"
      ]
     },
     "execution_count": 37,
     "metadata": {},
     "output_type": "execute_result"
    }
   ],
   "source": [
    "mannwhitneyu(quicksorted, mergesorted)"
   ]
  },
  {
   "cell_type": "markdown",
   "id": "161ce2fd",
   "metadata": {},
   "source": [
    "Критерий Манна-Уитни уверенно отвергает гипотезу. На гистограмме мы видим, что перекрытие распределений (а соответственно и элементов вариационного ряда) много меньше, чем доля значений, изолированных друг от друга. Именно о том, что два распределения \"раздвинуты\" и говорит критерий."
   ]
  },
  {
   "cell_type": "code",
   "execution_count": null,
   "id": "c941ce5b",
   "metadata": {},
   "outputs": [],
   "source": []
  },
  {
   "cell_type": "code",
   "execution_count": null,
   "id": "d2bc2cbe",
   "metadata": {},
   "outputs": [],
   "source": []
  },
  {
   "cell_type": "code",
   "execution_count": null,
   "id": "e16c1881",
   "metadata": {},
   "outputs": [],
   "source": []
  },
  {
   "cell_type": "code",
   "execution_count": null,
   "id": "a552eb72",
   "metadata": {},
   "outputs": [],
   "source": []
  }
 ],
 "metadata": {
  "kernelspec": {
   "display_name": "Python 3 (ipykernel)",
   "language": "python",
   "name": "python3"
  },
  "language_info": {
   "codemirror_mode": {
    "name": "ipython",
    "version": 3
   },
   "file_extension": ".py",
   "mimetype": "text/x-python",
   "name": "python",
   "nbconvert_exporter": "python",
   "pygments_lexer": "ipython3",
   "version": "3.7.11"
  }
 },
 "nbformat": 4,
 "nbformat_minor": 5
}
